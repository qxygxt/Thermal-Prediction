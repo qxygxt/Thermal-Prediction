{
  "nbformat": 4,
  "nbformat_minor": 0,
  "metadata": {
    "colab": {
      "provenance": [],
      "authorship_tag": "ABX9TyMYNp6KWYOUzvdnxzbodhIZ",
      "include_colab_link": true
    },
    "kernelspec": {
      "name": "python3",
      "display_name": "Python 3"
    },
    "language_info": {
      "name": "python"
    },
    "gpuClass": "standard"
  },
  "cells": [
    {
      "cell_type": "markdown",
      "metadata": {
        "id": "view-in-github",
        "colab_type": "text"
      },
      "source": [
        "<a href=\"https://colab.research.google.com/github/qxygxt/Thermal-Prediction/blob/main/Thermal_XGB.ipynb\" target=\"_parent\"><img src=\"https://colab.research.google.com/assets/colab-badge.svg\" alt=\"Open In Colab\"/></a>"
      ]
    },
    {
      "cell_type": "code",
      "execution_count": null,
      "metadata": {
        "colab": {
          "base_uri": "https://localhost:8080/"
        },
        "id": "rxg7ztv0NRJA",
        "outputId": "49df14f9-a1bd-48ed-818d-fc75e121a384"
      },
      "outputs": [
        {
          "output_type": "stream",
          "name": "stdout",
          "text": [
            "Mounted at /content/drive\n"
          ]
        }
      ],
      "source": [
        "from google.colab import drive\n",
        "drive.mount('/content/drive')"
      ]
    },
    {
      "cell_type": "code",
      "source": [
        "import os\n",
        "import pandas as pd\n",
        "import numpy as np\n",
        "import xgboost"
      ],
      "metadata": {
        "id": "P95HzA_4Oh_R"
      },
      "execution_count": null,
      "outputs": []
    },
    {
      "cell_type": "code",
      "source": [
        "train_data = \"/content/drive/MyDrive/ThermalPrediction-Data/trainData.csv\"\n",
        "test_data = \"/content/drive/MyDrive/ThermalPrediction-Data/testData.csv\"\n",
        "\n",
        "train_df = pd.read_csv(train_data)\n",
        "test_df = pd.read_csv(test_data)\n",
        "\n",
        "train_df.shape, test_df.shape"
      ],
      "metadata": {
        "colab": {
          "base_uri": "https://localhost:8080/"
        },
        "id": "axg0_iUcPS9w",
        "outputId": "7ba43eaa-0c7c-4266-8a92-22d52475dc85"
      },
      "execution_count": null,
      "outputs": [
        {
          "output_type": "execute_result",
          "data": {
            "text/plain": [
              "((1000, 53), (21517, 53))"
            ]
          },
          "metadata": {},
          "execution_count": 4
        }
      ]
    },
    {
      "cell_type": "code",
      "source": [
        "train_df.columns"
      ],
      "metadata": {
        "id": "rZyEW_paP3Cr"
      },
      "execution_count": null,
      "outputs": []
    },
    {
      "cell_type": "code",
      "source": [
        "train_df.info()"
      ],
      "metadata": {
        "id": "tBikReacQEne"
      },
      "execution_count": null,
      "outputs": []
    },
    {
      "cell_type": "code",
      "source": [
        "train_df.isnull().sum()"
      ],
      "metadata": {
        "id": "hGKOcTB8bTwi"
      },
      "execution_count": null,
      "outputs": []
    },
    {
      "cell_type": "code",
      "source": [
        "train_df['Season'].value_counts()"
      ],
      "metadata": {
        "colab": {
          "base_uri": "https://localhost:8080/"
        },
        "id": "UD7A-SdhVzqv",
        "outputId": "8c8c4904-57d9-4a75-e3f5-91d7bfdf3b0d"
      },
      "execution_count": null,
      "outputs": [
        {
          "output_type": "execute_result",
          "data": {
            "text/plain": [
              "Summer    394\n",
              "Winter    341\n",
              "Autumn    145\n",
              "Spring    120\n",
              "Name: Season, dtype: int64"
            ]
          },
          "metadata": {},
          "execution_count": 8
        }
      ]
    },
    {
      "cell_type": "code",
      "source": [
        "def season_process(season):\n",
        "  if season == \"Spring\":\n",
        "    return 1.0\n",
        "  elif season == \"Summer\":\n",
        "    return 2.0\n",
        "  elif season == \"Autumn\":\n",
        "    return 3.0\n",
        "  elif season == \"Winter\":\n",
        "    return 4.0\n",
        "  else:\n",
        "    return float(season)\n",
        "\n",
        "def feature_process(df):\n",
        "\n",
        "  if \"City\" in df.columns:\n",
        "    df.drop([\"City\"], axis=1, inplace=True)\n",
        "\n",
        "  df['Season'] = df['Season'].apply(lambda x: season_process(x) )\n",
        "\n",
        "  df['Thermal preference'] = df['Thermal preference'].apply(lambda x: int(float(x)) if x else 1)\n",
        "\n",
        "  for feature in df.columns:\n",
        "    if feature in [\"Season\", ]:\n",
        "      continue\n",
        "    df[feature] = df[feature].apply(lambda x: float(x) if x else 0.0)"
      ],
      "metadata": {
        "id": "k1YL8mzGQp1R"
      },
      "execution_count": null,
      "outputs": []
    },
    {
      "cell_type": "code",
      "source": [
        "feature_process(train_df)"
      ],
      "metadata": {
        "id": "mssgHTBbXftf"
      },
      "execution_count": null,
      "outputs": []
    },
    {
      "cell_type": "code",
      "source": [
        "feature_process(test_df)"
      ],
      "metadata": {
        "id": "cCiWYiXmFMnw"
      },
      "execution_count": null,
      "outputs": []
    },
    {
      "cell_type": "code",
      "source": [
        "train_df['Season'].value_counts()"
      ],
      "metadata": {
        "colab": {
          "base_uri": "https://localhost:8080/"
        },
        "id": "NHMdlu5jWkf7",
        "outputId": "26619da0-dece-4fee-ef13-2b6dffe080f0"
      },
      "execution_count": null,
      "outputs": [
        {
          "output_type": "execute_result",
          "data": {
            "text/plain": [
              "2.0    394\n",
              "4.0    341\n",
              "3.0    145\n",
              "1.0    120\n",
              "Name: Season, dtype: int64"
            ]
          },
          "metadata": {},
          "execution_count": 36
        }
      ]
    },
    {
      "cell_type": "code",
      "source": [
        "train_df['Thermal preference'].value_counts()"
      ],
      "metadata": {
        "colab": {
          "base_uri": "https://localhost:8080/"
        },
        "id": "x5VLXuqMRiR5",
        "outputId": "e438fca1-5f6f-48a6-f931-cba6a3b2f86a"
      },
      "execution_count": null,
      "outputs": [
        {
          "output_type": "execute_result",
          "data": {
            "text/plain": [
              "2.0    396\n",
              "1.0    364\n",
              "3.0    240\n",
              "Name: Thermal preference, dtype: int64"
            ]
          },
          "metadata": {},
          "execution_count": 37
        }
      ]
    },
    {
      "cell_type": "code",
      "source": [
        "train_df.info()"
      ],
      "metadata": {
        "colab": {
          "base_uri": "https://localhost:8080/"
        },
        "id": "jqqyToGNRKbq",
        "outputId": "fc9bc6b2-34f5-4b6d-b8c3-1e406a26ad9d"
      },
      "execution_count": null,
      "outputs": [
        {
          "output_type": "stream",
          "name": "stdout",
          "text": [
            "<class 'pandas.core.frame.DataFrame'>\n",
            "RangeIndex: 1000 entries, 0 to 999\n",
            "Data columns (total 52 columns):\n",
            " #   Column                                            Non-Null Count  Dtype  \n",
            "---  ------                                            --------------  -----  \n",
            " 0   Year                                              1000 non-null   float64\n",
            " 1   Season                                            1000 non-null   float64\n",
            " 2   Koppen climate classification                     1000 non-null   float64\n",
            " 3   Climate                                           1000 non-null   float64\n",
            " 4   Country                                           1000 non-null   float64\n",
            " 5   Building type                                     1000 non-null   float64\n",
            " 6   Cooling startegy_building level                   1000 non-null   float64\n",
            " 7   Cooling startegy_operation mode for MM buildings  1000 non-null   float64\n",
            " 8   Heating strategy_building level                   1000 non-null   float64\n",
            " 9   Age                                               1000 non-null   float64\n",
            " 10  Sex                                               1000 non-null   float64\n",
            " 11  Thermal sensation                                 1000 non-null   float64\n",
            " 12  Thermal sensation acceptability                   1000 non-null   float64\n",
            " 13  Air movement acceptability                        1000 non-null   float64\n",
            " 14  Air movement preference                           1000 non-null   float64\n",
            " 15  Thermal comfort                                   1000 non-null   float64\n",
            " 16  PMV                                               1000 non-null   float64\n",
            " 17  PPD                                               1000 non-null   float64\n",
            " 18  SET                                               1000 non-null   float64\n",
            " 19  Clo                                               1000 non-null   float64\n",
            " 20  Met                                               1000 non-null   float64\n",
            " 21  activity_10                                       1000 non-null   float64\n",
            " 22  activity_20                                       1000 non-null   float64\n",
            " 23  activity_30                                       1000 non-null   float64\n",
            " 24  activity_60                                       1000 non-null   float64\n",
            " 25  Air temperature (C)                               1000 non-null   float64\n",
            " 26  Air temperature (F)                               1000 non-null   float64\n",
            " 27  Ta_h (C)                                          1000 non-null   float64\n",
            " 28  Ta_h (F)                                          1000 non-null   float64\n",
            " 29  Ta_m (C)                                          1000 non-null   float64\n",
            " 30  Ta_l (C)                                          1000 non-null   float64\n",
            " 31  Ta_l (F)                                          1000 non-null   float64\n",
            " 32  Operative temperature (C)                         1000 non-null   float64\n",
            " 33  Operative temperature (F)                         1000 non-null   float64\n",
            " 34  Radiant temperature (C)                           1000 non-null   float64\n",
            " 35  Radiant temperature (F)                           1000 non-null   float64\n",
            " 36  Globe temperature (C)                             1000 non-null   float64\n",
            " 37  Globe temperature (F)                             1000 non-null   float64\n",
            " 38  Tg_h (C)                                          1000 non-null   float64\n",
            " 39  Tg_h (F)                                          1000 non-null   float64\n",
            " 40  Tg_m (C)                                          1000 non-null   float64\n",
            " 41  Tg_m (F)                                          1000 non-null   float64\n",
            " 42  Tg_l (C)                                          1000 non-null   float64\n",
            " 43  Tg_l (F)                                          1000 non-null   float64\n",
            " 44  Relative humidity (%)                             1000 non-null   float64\n",
            " 45  Humidity preference                               1000 non-null   float64\n",
            " 46  Humidity sensation                                1000 non-null   float64\n",
            " 47  Air velocity (m/s)                                1000 non-null   float64\n",
            " 48  Air velocity (fpm)                                1000 non-null   float64\n",
            " 49  Outdoor monthly air temperature (C)               1000 non-null   float64\n",
            " 50  Outdoor monthly air temperature (F)               1000 non-null   float64\n",
            " 51  Thermal preference                                1000 non-null   float64\n",
            "dtypes: float64(52)\n",
            "memory usage: 406.4 KB\n"
          ]
        }
      ]
    },
    {
      "cell_type": "code",
      "source": [
        "test_df.info()"
      ],
      "metadata": {
        "id": "vshYIpwmE5SA"
      },
      "execution_count": null,
      "outputs": []
    },
    {
      "cell_type": "code",
      "source": [
        "x = train_df.drop(['Thermal preference'], axis=1)\n",
        "\n",
        "y = train_df['Thermal preference']\n",
        "\n",
        "x_test = test_df.drop(['Thermal preference'], axis=1)\n",
        "\n",
        "y_test = test_df['Thermal preference']\n",
        "\n",
        "x.shape, y.shape, x_test.shape, y_test.shape"
      ],
      "metadata": {
        "colab": {
          "base_uri": "https://localhost:8080/"
        },
        "id": "hb2iHESSgjuy",
        "outputId": "02c87426-9a46-4ada-c676-2fe144ee8edd"
      },
      "execution_count": null,
      "outputs": [
        {
          "output_type": "execute_result",
          "data": {
            "text/plain": [
              "((1000, 51), (1000,), (21517, 51), (21517,))"
            ]
          },
          "metadata": {},
          "execution_count": 40
        }
      ]
    },
    {
      "cell_type": "code",
      "source": [
        "from sklearn.preprocessing import LabelEncoder\n",
        "le = LabelEncoder()\n",
        "y = le.fit_transform(y)\n",
        "y_test = le.fit_transform(y_test)"
      ],
      "metadata": {
        "id": "NtWV7p-SkHuS"
      },
      "execution_count": null,
      "outputs": []
    },
    {
      "cell_type": "code",
      "source": [
        "from sklearn.model_selection import train_test_split\n",
        "x_train, x_val, y_train, y_val = train_test_split(x, y, test_size=0.2, random_state=42)\n",
        "x_train.shape, x_val.shape, y_train.shape, y_val.shape"
      ],
      "metadata": {
        "colab": {
          "base_uri": "https://localhost:8080/"
        },
        "id": "qUOa72tT6tjP",
        "outputId": "64ba41b0-fc71-4477-e7fc-0ba8311fddf5"
      },
      "execution_count": null,
      "outputs": [
        {
          "output_type": "execute_result",
          "data": {
            "text/plain": [
              "((800, 51), (200, 51), (800,), (200,))"
            ]
          },
          "metadata": {},
          "execution_count": 43
        }
      ]
    },
    {
      "cell_type": "markdown",
      "source": [
        "##**Train**"
      ],
      "metadata": {
        "id": "NBaCbkTLhY_L"
      }
    },
    {
      "cell_type": "code",
      "source": [
        "early_stopping_rounds = 100\n",
        "metric_name = \"mlogloss\""
      ],
      "metadata": {
        "id": "zNGVospEOG54"
      },
      "execution_count": null,
      "outputs": []
    },
    {
      "cell_type": "code",
      "source": [
        "model = xgboost.XGBClassifier(\n",
        "            learning_rate=0.1,\n",
        "            n_estimators=600,\n",
        "            max_depth=2,\n",
        "            min_child_weight=1,\n",
        "            gamma=0,\n",
        "            subsample=0.8,\n",
        "            colsample_bytree=0.8,\n",
        "            objective=\"multi:softmax\",\n",
        "            num_class=3,\n",
        "            nthread=4,\n",
        "            seed=27)"
      ],
      "metadata": {
        "id": "94OiLNwZiGZl"
      },
      "execution_count": null,
      "outputs": []
    },
    {
      "cell_type": "code",
      "source": [
        "es = [\n",
        "    xgboost.callback.EarlyStopping(\n",
        "      metric_name=metric_name,\n",
        "      rounds=early_stopping_rounds,\n",
        "      save_best=True\n",
        "    )\n",
        "]"
      ],
      "metadata": {
        "id": "AtuQpIV_hck0"
      },
      "execution_count": null,
      "outputs": []
    },
    {
      "cell_type": "code",
      "source": [
        "model.fit(x_train, y_train, eval_set=[(x_val, y_val), ], callbacks=es)"
      ],
      "metadata": {
        "colab": {
          "base_uri": "https://localhost:8080/",
          "height": 1000
        },
        "id": "BKhnz0tZhnEh",
        "outputId": "19bd8ece-a57b-4eeb-8a00-d77d70b20027"
      },
      "execution_count": null,
      "outputs": [
        {
          "output_type": "stream",
          "name": "stdout",
          "text": [
            "[0]\tvalidation_0-mlogloss:1.07154\n",
            "[1]\tvalidation_0-mlogloss:1.04842\n",
            "[2]\tvalidation_0-mlogloss:1.02357\n",
            "[3]\tvalidation_0-mlogloss:1.00547\n",
            "[4]\tvalidation_0-mlogloss:0.98311\n",
            "[5]\tvalidation_0-mlogloss:0.95969\n",
            "[6]\tvalidation_0-mlogloss:0.94896\n",
            "[7]\tvalidation_0-mlogloss:0.93303\n",
            "[8]\tvalidation_0-mlogloss:0.91751\n"
          ]
        },
        {
          "output_type": "stream",
          "name": "stderr",
          "text": [
            "/usr/local/lib/python3.9/dist-packages/xgboost/sklearn.py:835: UserWarning: `callbacks` in `fit` method is deprecated for better compatibility with scikit-learn, use `callbacks` in constructor or`set_params` instead.\n",
            "  warnings.warn(\n"
          ]
        },
        {
          "output_type": "stream",
          "name": "stdout",
          "text": [
            "[9]\tvalidation_0-mlogloss:0.90698\n",
            "[10]\tvalidation_0-mlogloss:0.89930\n",
            "[11]\tvalidation_0-mlogloss:0.88877\n",
            "[12]\tvalidation_0-mlogloss:0.87917\n",
            "[13]\tvalidation_0-mlogloss:0.86778\n",
            "[14]\tvalidation_0-mlogloss:0.86043\n",
            "[15]\tvalidation_0-mlogloss:0.84830\n",
            "[16]\tvalidation_0-mlogloss:0.84132\n",
            "[17]\tvalidation_0-mlogloss:0.83301\n",
            "[18]\tvalidation_0-mlogloss:0.82789\n",
            "[19]\tvalidation_0-mlogloss:0.82179\n",
            "[20]\tvalidation_0-mlogloss:0.81867\n",
            "[21]\tvalidation_0-mlogloss:0.81284\n",
            "[22]\tvalidation_0-mlogloss:0.80741\n",
            "[23]\tvalidation_0-mlogloss:0.80313\n",
            "[24]\tvalidation_0-mlogloss:0.79772\n",
            "[25]\tvalidation_0-mlogloss:0.79354\n",
            "[26]\tvalidation_0-mlogloss:0.78777\n",
            "[27]\tvalidation_0-mlogloss:0.78122\n",
            "[28]\tvalidation_0-mlogloss:0.77705\n",
            "[29]\tvalidation_0-mlogloss:0.77379\n",
            "[30]\tvalidation_0-mlogloss:0.77147\n",
            "[31]\tvalidation_0-mlogloss:0.76766\n",
            "[32]\tvalidation_0-mlogloss:0.76402\n",
            "[33]\tvalidation_0-mlogloss:0.75813\n",
            "[34]\tvalidation_0-mlogloss:0.75472\n",
            "[35]\tvalidation_0-mlogloss:0.75145\n",
            "[36]\tvalidation_0-mlogloss:0.74609\n",
            "[37]\tvalidation_0-mlogloss:0.74415\n",
            "[38]\tvalidation_0-mlogloss:0.74212\n",
            "[39]\tvalidation_0-mlogloss:0.73799\n",
            "[40]\tvalidation_0-mlogloss:0.73706\n",
            "[41]\tvalidation_0-mlogloss:0.73536\n",
            "[42]\tvalidation_0-mlogloss:0.73422\n",
            "[43]\tvalidation_0-mlogloss:0.73375\n",
            "[44]\tvalidation_0-mlogloss:0.73124\n",
            "[45]\tvalidation_0-mlogloss:0.72673\n",
            "[46]\tvalidation_0-mlogloss:0.72612\n",
            "[47]\tvalidation_0-mlogloss:0.72449\n",
            "[48]\tvalidation_0-mlogloss:0.72413\n",
            "[49]\tvalidation_0-mlogloss:0.72346\n",
            "[50]\tvalidation_0-mlogloss:0.72229\n",
            "[51]\tvalidation_0-mlogloss:0.72037\n",
            "[52]\tvalidation_0-mlogloss:0.71842\n",
            "[53]\tvalidation_0-mlogloss:0.71462\n",
            "[54]\tvalidation_0-mlogloss:0.71181\n",
            "[55]\tvalidation_0-mlogloss:0.70882\n",
            "[56]\tvalidation_0-mlogloss:0.70883\n",
            "[57]\tvalidation_0-mlogloss:0.70784\n",
            "[58]\tvalidation_0-mlogloss:0.70797\n",
            "[59]\tvalidation_0-mlogloss:0.70889\n",
            "[60]\tvalidation_0-mlogloss:0.70793\n",
            "[61]\tvalidation_0-mlogloss:0.70779\n",
            "[62]\tvalidation_0-mlogloss:0.70520\n",
            "[63]\tvalidation_0-mlogloss:0.70260\n",
            "[64]\tvalidation_0-mlogloss:0.70022\n",
            "[65]\tvalidation_0-mlogloss:0.69884\n",
            "[66]\tvalidation_0-mlogloss:0.69819\n",
            "[67]\tvalidation_0-mlogloss:0.69659\n",
            "[68]\tvalidation_0-mlogloss:0.69690\n",
            "[69]\tvalidation_0-mlogloss:0.69576\n",
            "[70]\tvalidation_0-mlogloss:0.69503\n",
            "[71]\tvalidation_0-mlogloss:0.69451\n",
            "[72]\tvalidation_0-mlogloss:0.69494\n",
            "[73]\tvalidation_0-mlogloss:0.69508\n",
            "[74]\tvalidation_0-mlogloss:0.69278\n",
            "[75]\tvalidation_0-mlogloss:0.69229\n",
            "[76]\tvalidation_0-mlogloss:0.69162\n",
            "[77]\tvalidation_0-mlogloss:0.69017\n",
            "[78]\tvalidation_0-mlogloss:0.68983\n",
            "[79]\tvalidation_0-mlogloss:0.68914\n",
            "[80]\tvalidation_0-mlogloss:0.68834\n",
            "[81]\tvalidation_0-mlogloss:0.68894\n",
            "[82]\tvalidation_0-mlogloss:0.68829\n",
            "[83]\tvalidation_0-mlogloss:0.68906\n",
            "[84]\tvalidation_0-mlogloss:0.68940\n",
            "[85]\tvalidation_0-mlogloss:0.68721\n",
            "[86]\tvalidation_0-mlogloss:0.68741\n",
            "[87]\tvalidation_0-mlogloss:0.68682\n",
            "[88]\tvalidation_0-mlogloss:0.68540\n",
            "[89]\tvalidation_0-mlogloss:0.68467\n",
            "[90]\tvalidation_0-mlogloss:0.68469\n",
            "[91]\tvalidation_0-mlogloss:0.68341\n",
            "[92]\tvalidation_0-mlogloss:0.68239\n",
            "[93]\tvalidation_0-mlogloss:0.68088\n",
            "[94]\tvalidation_0-mlogloss:0.68043\n",
            "[95]\tvalidation_0-mlogloss:0.68009\n",
            "[96]\tvalidation_0-mlogloss:0.68008\n",
            "[97]\tvalidation_0-mlogloss:0.67889\n",
            "[98]\tvalidation_0-mlogloss:0.67931\n",
            "[99]\tvalidation_0-mlogloss:0.67966\n",
            "[100]\tvalidation_0-mlogloss:0.67861\n",
            "[101]\tvalidation_0-mlogloss:0.67611\n",
            "[102]\tvalidation_0-mlogloss:0.67535\n",
            "[103]\tvalidation_0-mlogloss:0.67510\n",
            "[104]\tvalidation_0-mlogloss:0.67497\n",
            "[105]\tvalidation_0-mlogloss:0.67552\n",
            "[106]\tvalidation_0-mlogloss:0.67383\n",
            "[107]\tvalidation_0-mlogloss:0.67198\n",
            "[108]\tvalidation_0-mlogloss:0.67244\n",
            "[109]\tvalidation_0-mlogloss:0.67139\n",
            "[110]\tvalidation_0-mlogloss:0.67047\n",
            "[111]\tvalidation_0-mlogloss:0.66803\n",
            "[112]\tvalidation_0-mlogloss:0.66807\n",
            "[113]\tvalidation_0-mlogloss:0.66748\n",
            "[114]\tvalidation_0-mlogloss:0.66717\n",
            "[115]\tvalidation_0-mlogloss:0.66683\n",
            "[116]\tvalidation_0-mlogloss:0.66726\n",
            "[117]\tvalidation_0-mlogloss:0.66735\n",
            "[118]\tvalidation_0-mlogloss:0.66735\n",
            "[119]\tvalidation_0-mlogloss:0.66672\n",
            "[120]\tvalidation_0-mlogloss:0.66612\n",
            "[121]\tvalidation_0-mlogloss:0.66400\n",
            "[122]\tvalidation_0-mlogloss:0.66264\n",
            "[123]\tvalidation_0-mlogloss:0.66258\n",
            "[124]\tvalidation_0-mlogloss:0.66117\n",
            "[125]\tvalidation_0-mlogloss:0.66205\n",
            "[126]\tvalidation_0-mlogloss:0.66342\n",
            "[127]\tvalidation_0-mlogloss:0.66337\n",
            "[128]\tvalidation_0-mlogloss:0.66306\n",
            "[129]\tvalidation_0-mlogloss:0.66250\n",
            "[130]\tvalidation_0-mlogloss:0.66321\n",
            "[131]\tvalidation_0-mlogloss:0.66291\n",
            "[132]\tvalidation_0-mlogloss:0.66250\n",
            "[133]\tvalidation_0-mlogloss:0.66317\n",
            "[134]\tvalidation_0-mlogloss:0.66305\n",
            "[135]\tvalidation_0-mlogloss:0.66297\n",
            "[136]\tvalidation_0-mlogloss:0.66145\n",
            "[137]\tvalidation_0-mlogloss:0.65983\n",
            "[138]\tvalidation_0-mlogloss:0.66014\n",
            "[139]\tvalidation_0-mlogloss:0.66000\n",
            "[140]\tvalidation_0-mlogloss:0.65975\n",
            "[141]\tvalidation_0-mlogloss:0.66108\n",
            "[142]\tvalidation_0-mlogloss:0.66102\n",
            "[143]\tvalidation_0-mlogloss:0.66025\n",
            "[144]\tvalidation_0-mlogloss:0.65987\n",
            "[145]\tvalidation_0-mlogloss:0.65986\n",
            "[146]\tvalidation_0-mlogloss:0.65796\n",
            "[147]\tvalidation_0-mlogloss:0.65761\n",
            "[148]\tvalidation_0-mlogloss:0.65764\n",
            "[149]\tvalidation_0-mlogloss:0.65719\n",
            "[150]\tvalidation_0-mlogloss:0.65600\n",
            "[151]\tvalidation_0-mlogloss:0.65644\n",
            "[152]\tvalidation_0-mlogloss:0.65601\n",
            "[153]\tvalidation_0-mlogloss:0.65633\n",
            "[154]\tvalidation_0-mlogloss:0.65598\n",
            "[155]\tvalidation_0-mlogloss:0.65651\n",
            "[156]\tvalidation_0-mlogloss:0.65593\n",
            "[157]\tvalidation_0-mlogloss:0.65575\n",
            "[158]\tvalidation_0-mlogloss:0.65497\n",
            "[159]\tvalidation_0-mlogloss:0.65669\n",
            "[160]\tvalidation_0-mlogloss:0.65585\n",
            "[161]\tvalidation_0-mlogloss:0.65461\n",
            "[162]\tvalidation_0-mlogloss:0.65396\n",
            "[163]\tvalidation_0-mlogloss:0.65440\n",
            "[164]\tvalidation_0-mlogloss:0.65428\n",
            "[165]\tvalidation_0-mlogloss:0.65433\n",
            "[166]\tvalidation_0-mlogloss:0.65349\n",
            "[167]\tvalidation_0-mlogloss:0.65312\n",
            "[168]\tvalidation_0-mlogloss:0.65272\n",
            "[169]\tvalidation_0-mlogloss:0.65334\n",
            "[170]\tvalidation_0-mlogloss:0.65347\n",
            "[171]\tvalidation_0-mlogloss:0.65436\n",
            "[172]\tvalidation_0-mlogloss:0.65363\n",
            "[173]\tvalidation_0-mlogloss:0.65363\n",
            "[174]\tvalidation_0-mlogloss:0.65320\n",
            "[175]\tvalidation_0-mlogloss:0.65386\n",
            "[176]\tvalidation_0-mlogloss:0.65339\n",
            "[177]\tvalidation_0-mlogloss:0.65373\n",
            "[178]\tvalidation_0-mlogloss:0.65416\n",
            "[179]\tvalidation_0-mlogloss:0.65351\n",
            "[180]\tvalidation_0-mlogloss:0.65203\n",
            "[181]\tvalidation_0-mlogloss:0.65173\n",
            "[182]\tvalidation_0-mlogloss:0.65192\n",
            "[183]\tvalidation_0-mlogloss:0.65193\n",
            "[184]\tvalidation_0-mlogloss:0.65044\n",
            "[185]\tvalidation_0-mlogloss:0.64961\n",
            "[186]\tvalidation_0-mlogloss:0.64997\n",
            "[187]\tvalidation_0-mlogloss:0.64931\n",
            "[188]\tvalidation_0-mlogloss:0.64870\n",
            "[189]\tvalidation_0-mlogloss:0.64949\n",
            "[190]\tvalidation_0-mlogloss:0.64970\n",
            "[191]\tvalidation_0-mlogloss:0.64861\n",
            "[192]\tvalidation_0-mlogloss:0.64895\n",
            "[193]\tvalidation_0-mlogloss:0.64813\n",
            "[194]\tvalidation_0-mlogloss:0.64863\n",
            "[195]\tvalidation_0-mlogloss:0.64938\n",
            "[196]\tvalidation_0-mlogloss:0.65077\n",
            "[197]\tvalidation_0-mlogloss:0.65002\n",
            "[198]\tvalidation_0-mlogloss:0.64946\n",
            "[199]\tvalidation_0-mlogloss:0.64874\n",
            "[200]\tvalidation_0-mlogloss:0.64698\n",
            "[201]\tvalidation_0-mlogloss:0.64755\n",
            "[202]\tvalidation_0-mlogloss:0.64869\n",
            "[203]\tvalidation_0-mlogloss:0.64836\n",
            "[204]\tvalidation_0-mlogloss:0.64567\n",
            "[205]\tvalidation_0-mlogloss:0.64580\n",
            "[206]\tvalidation_0-mlogloss:0.64671\n",
            "[207]\tvalidation_0-mlogloss:0.64576\n",
            "[208]\tvalidation_0-mlogloss:0.64613\n",
            "[209]\tvalidation_0-mlogloss:0.64562\n",
            "[210]\tvalidation_0-mlogloss:0.64785\n",
            "[211]\tvalidation_0-mlogloss:0.64907\n",
            "[212]\tvalidation_0-mlogloss:0.64868\n",
            "[213]\tvalidation_0-mlogloss:0.64930\n",
            "[214]\tvalidation_0-mlogloss:0.64859\n",
            "[215]\tvalidation_0-mlogloss:0.64928\n",
            "[216]\tvalidation_0-mlogloss:0.64899\n",
            "[217]\tvalidation_0-mlogloss:0.64796\n",
            "[218]\tvalidation_0-mlogloss:0.64811\n",
            "[219]\tvalidation_0-mlogloss:0.64824\n",
            "[220]\tvalidation_0-mlogloss:0.64987\n",
            "[221]\tvalidation_0-mlogloss:0.65030\n",
            "[222]\tvalidation_0-mlogloss:0.65078\n",
            "[223]\tvalidation_0-mlogloss:0.65073\n",
            "[224]\tvalidation_0-mlogloss:0.65057\n",
            "[225]\tvalidation_0-mlogloss:0.64920\n",
            "[226]\tvalidation_0-mlogloss:0.64827\n",
            "[227]\tvalidation_0-mlogloss:0.64783\n",
            "[228]\tvalidation_0-mlogloss:0.64758\n",
            "[229]\tvalidation_0-mlogloss:0.64803\n",
            "[230]\tvalidation_0-mlogloss:0.64849\n",
            "[231]\tvalidation_0-mlogloss:0.64906\n",
            "[232]\tvalidation_0-mlogloss:0.64880\n",
            "[233]\tvalidation_0-mlogloss:0.64832\n",
            "[234]\tvalidation_0-mlogloss:0.64812\n",
            "[235]\tvalidation_0-mlogloss:0.64984\n",
            "[236]\tvalidation_0-mlogloss:0.65160\n",
            "[237]\tvalidation_0-mlogloss:0.65193\n",
            "[238]\tvalidation_0-mlogloss:0.65287\n",
            "[239]\tvalidation_0-mlogloss:0.65244\n",
            "[240]\tvalidation_0-mlogloss:0.65285\n",
            "[241]\tvalidation_0-mlogloss:0.65422\n",
            "[242]\tvalidation_0-mlogloss:0.65364\n",
            "[243]\tvalidation_0-mlogloss:0.65459\n",
            "[244]\tvalidation_0-mlogloss:0.65594\n",
            "[245]\tvalidation_0-mlogloss:0.65575\n",
            "[246]\tvalidation_0-mlogloss:0.65665\n",
            "[247]\tvalidation_0-mlogloss:0.65793\n",
            "[248]\tvalidation_0-mlogloss:0.65777\n",
            "[249]\tvalidation_0-mlogloss:0.65687\n",
            "[250]\tvalidation_0-mlogloss:0.65679\n",
            "[251]\tvalidation_0-mlogloss:0.65514\n",
            "[252]\tvalidation_0-mlogloss:0.65497\n",
            "[253]\tvalidation_0-mlogloss:0.65552\n",
            "[254]\tvalidation_0-mlogloss:0.65517\n",
            "[255]\tvalidation_0-mlogloss:0.65465\n",
            "[256]\tvalidation_0-mlogloss:0.65504\n",
            "[257]\tvalidation_0-mlogloss:0.65462\n",
            "[258]\tvalidation_0-mlogloss:0.65577\n",
            "[259]\tvalidation_0-mlogloss:0.65608\n",
            "[260]\tvalidation_0-mlogloss:0.65680\n",
            "[261]\tvalidation_0-mlogloss:0.65748\n",
            "[262]\tvalidation_0-mlogloss:0.65782\n",
            "[263]\tvalidation_0-mlogloss:0.65642\n",
            "[264]\tvalidation_0-mlogloss:0.65686\n",
            "[265]\tvalidation_0-mlogloss:0.65637\n",
            "[266]\tvalidation_0-mlogloss:0.65713\n",
            "[267]\tvalidation_0-mlogloss:0.65681\n",
            "[268]\tvalidation_0-mlogloss:0.65584\n",
            "[269]\tvalidation_0-mlogloss:0.65691\n",
            "[270]\tvalidation_0-mlogloss:0.65702\n",
            "[271]\tvalidation_0-mlogloss:0.65663\n",
            "[272]\tvalidation_0-mlogloss:0.65702\n",
            "[273]\tvalidation_0-mlogloss:0.65747\n",
            "[274]\tvalidation_0-mlogloss:0.65615\n",
            "[275]\tvalidation_0-mlogloss:0.65536\n",
            "[276]\tvalidation_0-mlogloss:0.65469\n",
            "[277]\tvalidation_0-mlogloss:0.65509\n",
            "[278]\tvalidation_0-mlogloss:0.65458\n",
            "[279]\tvalidation_0-mlogloss:0.65430\n",
            "[280]\tvalidation_0-mlogloss:0.65427\n",
            "[281]\tvalidation_0-mlogloss:0.65381\n",
            "[282]\tvalidation_0-mlogloss:0.65359\n",
            "[283]\tvalidation_0-mlogloss:0.65399\n",
            "[284]\tvalidation_0-mlogloss:0.65517\n",
            "[285]\tvalidation_0-mlogloss:0.65499\n",
            "[286]\tvalidation_0-mlogloss:0.65538\n",
            "[287]\tvalidation_0-mlogloss:0.65580\n",
            "[288]\tvalidation_0-mlogloss:0.65665\n",
            "[289]\tvalidation_0-mlogloss:0.65776\n",
            "[290]\tvalidation_0-mlogloss:0.65720\n",
            "[291]\tvalidation_0-mlogloss:0.65665\n",
            "[292]\tvalidation_0-mlogloss:0.65723\n",
            "[293]\tvalidation_0-mlogloss:0.65789\n",
            "[294]\tvalidation_0-mlogloss:0.65813\n",
            "[295]\tvalidation_0-mlogloss:0.65686\n",
            "[296]\tvalidation_0-mlogloss:0.65717\n",
            "[297]\tvalidation_0-mlogloss:0.65673\n",
            "[298]\tvalidation_0-mlogloss:0.65647\n",
            "[299]\tvalidation_0-mlogloss:0.65655\n",
            "[300]\tvalidation_0-mlogloss:0.65723\n",
            "[301]\tvalidation_0-mlogloss:0.65832\n",
            "[302]\tvalidation_0-mlogloss:0.65759\n",
            "[303]\tvalidation_0-mlogloss:0.65780\n",
            "[304]\tvalidation_0-mlogloss:0.65853\n",
            "[305]\tvalidation_0-mlogloss:0.65810\n",
            "[306]\tvalidation_0-mlogloss:0.65936\n",
            "[307]\tvalidation_0-mlogloss:0.65936\n",
            "[308]\tvalidation_0-mlogloss:0.65793\n",
            "[309]\tvalidation_0-mlogloss:0.65800\n"
          ]
        },
        {
          "output_type": "execute_result",
          "data": {
            "text/plain": [
              "XGBClassifier(base_score=None, booster=None, callbacks=None,\n",
              "              colsample_bylevel=None, colsample_bynode=None,\n",
              "              colsample_bytree=0.8, early_stopping_rounds=None,\n",
              "              enable_categorical=False, eval_metric=None, feature_types=None,\n",
              "              gamma=0, gpu_id=None, grow_policy=None, importance_type=None,\n",
              "              interaction_constraints=None, learning_rate=0.1, max_bin=None,\n",
              "              max_cat_threshold=None, max_cat_to_onehot=None,\n",
              "              max_delta_step=None, max_depth=2, max_leaves=None,\n",
              "              min_child_weight=1, missing=nan, monotone_constraints=None,\n",
              "              n_estimators=600, n_jobs=None, nthread=4, num_class=3,\n",
              "              num_parallel_tree=None, ...)"
            ],
            "text/html": [
              "<style>#sk-container-id-1 {color: black;background-color: white;}#sk-container-id-1 pre{padding: 0;}#sk-container-id-1 div.sk-toggleable {background-color: white;}#sk-container-id-1 label.sk-toggleable__label {cursor: pointer;display: block;width: 100%;margin-bottom: 0;padding: 0.3em;box-sizing: border-box;text-align: center;}#sk-container-id-1 label.sk-toggleable__label-arrow:before {content: \"▸\";float: left;margin-right: 0.25em;color: #696969;}#sk-container-id-1 label.sk-toggleable__label-arrow:hover:before {color: black;}#sk-container-id-1 div.sk-estimator:hover label.sk-toggleable__label-arrow:before {color: black;}#sk-container-id-1 div.sk-toggleable__content {max-height: 0;max-width: 0;overflow: hidden;text-align: left;background-color: #f0f8ff;}#sk-container-id-1 div.sk-toggleable__content pre {margin: 0.2em;color: black;border-radius: 0.25em;background-color: #f0f8ff;}#sk-container-id-1 input.sk-toggleable__control:checked~div.sk-toggleable__content {max-height: 200px;max-width: 100%;overflow: auto;}#sk-container-id-1 input.sk-toggleable__control:checked~label.sk-toggleable__label-arrow:before {content: \"▾\";}#sk-container-id-1 div.sk-estimator input.sk-toggleable__control:checked~label.sk-toggleable__label {background-color: #d4ebff;}#sk-container-id-1 div.sk-label input.sk-toggleable__control:checked~label.sk-toggleable__label {background-color: #d4ebff;}#sk-container-id-1 input.sk-hidden--visually {border: 0;clip: rect(1px 1px 1px 1px);clip: rect(1px, 1px, 1px, 1px);height: 1px;margin: -1px;overflow: hidden;padding: 0;position: absolute;width: 1px;}#sk-container-id-1 div.sk-estimator {font-family: monospace;background-color: #f0f8ff;border: 1px dotted black;border-radius: 0.25em;box-sizing: border-box;margin-bottom: 0.5em;}#sk-container-id-1 div.sk-estimator:hover {background-color: #d4ebff;}#sk-container-id-1 div.sk-parallel-item::after {content: \"\";width: 100%;border-bottom: 1px solid gray;flex-grow: 1;}#sk-container-id-1 div.sk-label:hover label.sk-toggleable__label {background-color: #d4ebff;}#sk-container-id-1 div.sk-serial::before {content: \"\";position: absolute;border-left: 1px solid gray;box-sizing: border-box;top: 0;bottom: 0;left: 50%;z-index: 0;}#sk-container-id-1 div.sk-serial {display: flex;flex-direction: column;align-items: center;background-color: white;padding-right: 0.2em;padding-left: 0.2em;position: relative;}#sk-container-id-1 div.sk-item {position: relative;z-index: 1;}#sk-container-id-1 div.sk-parallel {display: flex;align-items: stretch;justify-content: center;background-color: white;position: relative;}#sk-container-id-1 div.sk-item::before, #sk-container-id-1 div.sk-parallel-item::before {content: \"\";position: absolute;border-left: 1px solid gray;box-sizing: border-box;top: 0;bottom: 0;left: 50%;z-index: -1;}#sk-container-id-1 div.sk-parallel-item {display: flex;flex-direction: column;z-index: 1;position: relative;background-color: white;}#sk-container-id-1 div.sk-parallel-item:first-child::after {align-self: flex-end;width: 50%;}#sk-container-id-1 div.sk-parallel-item:last-child::after {align-self: flex-start;width: 50%;}#sk-container-id-1 div.sk-parallel-item:only-child::after {width: 0;}#sk-container-id-1 div.sk-dashed-wrapped {border: 1px dashed gray;margin: 0 0.4em 0.5em 0.4em;box-sizing: border-box;padding-bottom: 0.4em;background-color: white;}#sk-container-id-1 div.sk-label label {font-family: monospace;font-weight: bold;display: inline-block;line-height: 1.2em;}#sk-container-id-1 div.sk-label-container {text-align: center;}#sk-container-id-1 div.sk-container {/* jupyter's `normalize.less` sets `[hidden] { display: none; }` but bootstrap.min.css set `[hidden] { display: none !important; }` so we also need the `!important` here to be able to override the default hidden behavior on the sphinx rendered scikit-learn.org. See: https://github.com/scikit-learn/scikit-learn/issues/21755 */display: inline-block !important;position: relative;}#sk-container-id-1 div.sk-text-repr-fallback {display: none;}</style><div id=\"sk-container-id-1\" class=\"sk-top-container\"><div class=\"sk-text-repr-fallback\"><pre>XGBClassifier(base_score=None, booster=None, callbacks=None,\n",
              "              colsample_bylevel=None, colsample_bynode=None,\n",
              "              colsample_bytree=0.8, early_stopping_rounds=None,\n",
              "              enable_categorical=False, eval_metric=None, feature_types=None,\n",
              "              gamma=0, gpu_id=None, grow_policy=None, importance_type=None,\n",
              "              interaction_constraints=None, learning_rate=0.1, max_bin=None,\n",
              "              max_cat_threshold=None, max_cat_to_onehot=None,\n",
              "              max_delta_step=None, max_depth=2, max_leaves=None,\n",
              "              min_child_weight=1, missing=nan, monotone_constraints=None,\n",
              "              n_estimators=600, n_jobs=None, nthread=4, num_class=3,\n",
              "              num_parallel_tree=None, ...)</pre><b>In a Jupyter environment, please rerun this cell to show the HTML representation or trust the notebook. <br />On GitHub, the HTML representation is unable to render, please try loading this page with nbviewer.org.</b></div><div class=\"sk-container\" hidden><div class=\"sk-item\"><div class=\"sk-estimator sk-toggleable\"><input class=\"sk-toggleable__control sk-hidden--visually\" id=\"sk-estimator-id-1\" type=\"checkbox\" checked><label for=\"sk-estimator-id-1\" class=\"sk-toggleable__label sk-toggleable__label-arrow\">XGBClassifier</label><div class=\"sk-toggleable__content\"><pre>XGBClassifier(base_score=None, booster=None, callbacks=None,\n",
              "              colsample_bylevel=None, colsample_bynode=None,\n",
              "              colsample_bytree=0.8, early_stopping_rounds=None,\n",
              "              enable_categorical=False, eval_metric=None, feature_types=None,\n",
              "              gamma=0, gpu_id=None, grow_policy=None, importance_type=None,\n",
              "              interaction_constraints=None, learning_rate=0.1, max_bin=None,\n",
              "              max_cat_threshold=None, max_cat_to_onehot=None,\n",
              "              max_delta_step=None, max_depth=2, max_leaves=None,\n",
              "              min_child_weight=1, missing=nan, monotone_constraints=None,\n",
              "              n_estimators=600, n_jobs=None, nthread=4, num_class=3,\n",
              "              num_parallel_tree=None, ...)</pre></div></div></div></div></div>"
            ]
          },
          "metadata": {},
          "execution_count": 47
        }
      ]
    },
    {
      "cell_type": "code",
      "source": [
        "from sklearn.metrics import classification_report\n",
        "y_pred = model.predict(x_test)\n",
        "print(classification_report(y_test, y_pred))"
      ],
      "metadata": {
        "colab": {
          "base_uri": "https://localhost:8080/"
        },
        "id": "RTyneBpWDKBI",
        "outputId": "a9782036-28ea-4a04-8de6-bc67686d3d58"
      },
      "execution_count": null,
      "outputs": [
        {
          "output_type": "stream",
          "name": "stdout",
          "text": [
            "              precision    recall  f1-score   support\n",
            "\n",
            "           0       0.82      0.75      0.78      7517\n",
            "           1       0.73      0.76      0.74      8708\n",
            "           2       0.71      0.74      0.73      5292\n",
            "\n",
            "    accuracy                           0.75     21517\n",
            "   macro avg       0.75      0.75      0.75     21517\n",
            "weighted avg       0.76      0.75      0.75     21517\n",
            "\n"
          ]
        }
      ]
    },
    {
      "cell_type": "code",
      "source": [
        "from sklearn.metrics import accuracy_score, recall_score, precision_score, f1_score\n",
        "accuracy = accuracy_score(y_test, y_pred)\n",
        "rc=recall_score(y_test, y_pred, average= \"macro\")\n",
        "pr=precision_score(y_test, y_pred, average= \"macro\")\n",
        "f_1=f1_score(y_test, y_pred,average= \"macro\")\n",
        "print(\"Accuracy:\", accuracy)\n",
        "print(\"Recall:\", rc)\n",
        "print(\"pr:\", pr)\n",
        "print(\"F1:\", f_1)"
      ],
      "metadata": {
        "colab": {
          "base_uri": "https://localhost:8080/"
        },
        "id": "vAXtMAblGRcy",
        "outputId": "919acc13-3568-4ced-e8a9-caddeda355e7"
      },
      "execution_count": null,
      "outputs": [
        {
          "output_type": "stream",
          "name": "stdout",
          "text": [
            "Accuracy: 0.7531719105823302\n",
            "Recall: 0.7517968560025693\n",
            "pr: 0.7527343269001329\n",
            "F1: 0.7515998351346332\n"
          ]
        }
      ]
    }
  ]
}